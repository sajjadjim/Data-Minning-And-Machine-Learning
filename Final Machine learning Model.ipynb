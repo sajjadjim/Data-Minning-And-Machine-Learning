{
 "cells": [
  {
   "cell_type": "code",
   "execution_count": null,
   "metadata": {
    "colab": {
     "base_uri": "https://localhost:8080/"
    },
    "executionInfo": {
     "elapsed": 3081,
     "status": "ok",
     "timestamp": 1734025922797,
     "user": {
      "displayName": "SAJJAD HOSSAIN JIM",
      "userId": "06773040906540873074"
     },
     "user_tz": -360
    },
    "id": "4lc8d3JSNi_9",
    "outputId": "c4f12973-a035-4ac7-a987-9b31fdea7d54"
   },
   "outputs": [],
   "source": [
    "from google.colab import drive\n",
    "drive.mount('/content/drive')\n",
    "\n",
    "import pandas as pd\n",
    "import numpy as np\n",
    "import matplotlib.pyplot as plt\n",
    "import seaborn as sns\n",
    "import statistics as stat\n",
    "sample=pd.read_csv(\"/content/drive/MyDrive/Contest ML/obesity-level-prediction-fall-2024/sample_submission.csv\")\n",
    "\n",
    "test=pd.read_csv(\"/content/drive/MyDrive/Contest ML/obesity-level-prediction-fall-2024/test.csv\")\n",
    "print(test.head(10))\n",
    "#show Data set\n",
    "print(sample.head(10))\n",
    "train=pd.read_csv(\"/content/drive/MyDrive/Contest ML/obesity-level-prediction-fall-2024/train.csv\")\n",
    "\n",
    "print(train.head(10))"
   ]
  },
  {
   "cell_type": "code",
   "execution_count": null,
   "metadata": {
    "colab": {
     "base_uri": "https://localhost:8080/"
    },
    "executionInfo": {
     "elapsed": 696,
     "status": "ok",
     "timestamp": 1734025985829,
     "user": {
      "displayName": "SAJJAD HOSSAIN JIM",
      "userId": "06773040906540873074"
     },
     "user_tz": -360
    },
    "id": "lIqM6A6fAHcy",
    "outputId": "95305205-b77b-4d59-c7f7-fca6ae3d4bab"
   },
   "outputs": [],
   "source": [
    "\n",
    "print(\"Null values in the training dataset:\\n\", train.isnull().sum())\n",
    "\n",
    "print(\"\\nNull values in the testing dataset:\\n\", test.isnull().sum())"
   ]
  },
  {
   "cell_type": "code",
   "execution_count": null,
   "metadata": {
    "colab": {
     "base_uri": "https://localhost:8080/"
    },
    "executionInfo": {
     "elapsed": 655,
     "status": "ok",
     "timestamp": 1734026029109,
     "user": {
      "displayName": "SAJJAD HOSSAIN JIM",
      "userId": "06773040906540873074"
     },
     "user_tz": -360
    },
    "id": "RiGeijLUANQS",
    "outputId": "eb3ac755-bad7-4dc6-faa1-755fcddaeb95"
   },
   "outputs": [],
   "source": [
    "\n",
    "print(\"\\nData types of the training dataset:\\n\", train.dtypes)\n",
    "print(\"\\nData types of the testing dataset:\\n\", test.dtypes)"
   ]
  },
  {
   "cell_type": "code",
   "execution_count": 8,
   "metadata": {
    "executionInfo": {
     "elapsed": 487,
     "status": "ok",
     "timestamp": 1734026114160,
     "user": {
      "displayName": "SAJJAD HOSSAIN JIM",
      "userId": "06773040906540873074"
     },
     "user_tz": -360
    },
    "id": "hGYjrrQDAXw8"
   },
   "outputs": [],
   "source": [
    "\n",
    "numerical_cols = train.select_dtypes(include=['float64', 'int64']).columns\n",
    "\n",
    "for col in numerical_cols:\n",
    "    # Handle cases where all values might be NaN in a column\n",
    "    if train[col].isnull().all():\n",
    "        # If all values are NaN use 0 imputation, this is problem specific.\n",
    "        train[col] = 0\n",
    "    else:\n",
    "        train[col] = train[col].fillna(train[col].median())\n"
   ]
  },
  {
   "cell_type": "code",
   "execution_count": 9,
   "metadata": {
    "executionInfo": {
     "elapsed": 817,
     "status": "ok",
     "timestamp": 1734026157949,
     "user": {
      "displayName": "SAJJAD HOSSAIN JIM",
      "userId": "06773040906540873074"
     },
     "user_tz": -360
    },
    "id": "WrmCc9BNAsNm"
   },
   "outputs": [],
   "source": [
    "\n",
    "categorical_cols = train.select_dtypes(include=['object']).columns\n",
    "\n",
    "for col in categorical_cols:\n",
    "    train[col] = train.groupby('NObeyesdad')[col].transform(lambda x: x.fillna(x.mode()[0]))"
   ]
  },
  {
   "cell_type": "code",
   "execution_count": null,
   "metadata": {
    "colab": {
     "base_uri": "https://localhost:8080/",
     "height": 649
    },
    "executionInfo": {
     "elapsed": 460,
     "status": "ok",
     "timestamp": 1734026212430,
     "user": {
      "displayName": "SAJJAD HOSSAIN JIM",
      "userId": "06773040906540873074"
     },
     "user_tz": -360
    },
    "id": "5Wu2MIrRA7VX",
    "outputId": "4e9516db-5e12-4cbc-aa9d-fc2f9b8e7f58"
   },
   "outputs": [],
   "source": [
    "train.isnull().sum()\n",
    "#test.isnull().sum()"
   ]
  },
  {
   "cell_type": "code",
   "execution_count": null,
   "metadata": {
    "colab": {
     "base_uri": "https://localhost:8080/",
     "height": 649
    },
    "executionInfo": {
     "elapsed": 453,
     "status": "ok",
     "timestamp": 1734026335837,
     "user": {
      "displayName": "SAJJAD HOSSAIN JIM",
      "userId": "06773040906540873074"
     },
     "user_tz": -360
    },
    "id": "1gLWybcKBK35",
    "outputId": "beb0f552-0201-4370-fecd-68d202a9390a"
   },
   "outputs": [],
   "source": [
    "\n",
    "from sklearn.preprocessing import LabelEncoder, OneHotEncoder\n",
    "from sklearn.compose import ColumnTransformer\n",
    "\n",
    "# Initialize LabelEncoder\n",
    "le = LabelEncoder()\n",
    "\n",
    "# Identify categorical columns (excluding ID and target variable)\n",
    "categorical_cols = train.select_dtypes(include=['object']).columns\n",
    "categorical_cols = [col for col in categorical_cols if col not in ['ID', 'NObeyesdad']]\n",
    "\n",
    "# Apply Label Encoding to categorical features\n",
    "for col in categorical_cols:\n",
    "    train[col] = le.fit_transform(train[col])\n",
    "\n",
    "ct = ColumnTransformer(transformers=[('encoder', OneHotEncoder(), categorical_cols)], remainder='passthrough')\n",
    "\n",
    "train_encoded = ct.fit_transform(train)\n",
    "\n",
    "\n",
    "train.dtypes"
   ]
  },
  {
   "cell_type": "code",
   "execution_count": 14,
   "metadata": {
    "colab": {
     "base_uri": "https://localhost:8080/"
    },
    "executionInfo": {
     "elapsed": 139165,
     "status": "ok",
     "timestamp": 1734026523993,
     "user": {
      "displayName": "SAJJAD HOSSAIN JIM",
      "userId": "06773040906540873074"
     },
     "user_tz": -360
    },
    "id": "LF9g8NZ8Ba0z",
    "outputId": "be572931-872d-49da-93c9-7748eee6512a"
   },
   "outputs": [
    {
     "name": "stdout",
     "output_type": "stream",
     "text": [
      "Best Hyperparameters: {'max_depth': None, 'min_samples_leaf': 1, 'min_samples_split': 2, 'n_estimators': 200}\n",
      "Accuracy of the best model on the test set: 0.7927927927927928\n"
     ]
    }
   ],
   "source": [
    "\n",
    "from sklearn.model_selection import train_test_split, GridSearchCV\n",
    "from sklearn.ensemble import RandomForestClassifier  # Example model, you can change this\n",
    "from sklearn.metrics import accuracy_score\n",
    "\n",
    "\n",
    "X = train.drop(columns=['NObeyesdad', 'ID'], axis=1)\n",
    "y = train['NObeyesdad']\n",
    "\n",
    "X_train, X_test, y_train, y_test = train_test_split(X, y, test_size=0.2, random_state=42)\n",
    "\n",
    "\n",
    "# Define the model (RandomForestClassifier as an example, you can use any model)\n",
    "model = RandomForestClassifier(random_state=42)\n",
    "\n",
    "\n",
    "param_grid = {\n",
    "    'n_estimators': [50, 100, 200],\n",
    "    'max_depth': [None, 10, 20],    \n",
    "    'min_samples_split': [2, 5, 10], \n",
    "    'min_samples_leaf': [1, 2, 4]     \n",
    "}\n",
    "\n",
    "grid_search = GridSearchCV(estimator=model, param_grid=param_grid, cv=5, scoring='accuracy', n_jobs=-1) # Use all available cores\n",
    "grid_search.fit(X_train, y_train)\n",
    "\n",
    "\n",
    "best_model = grid_search.best_estimator_\n",
    "best_params = grid_search.best_params_\n",
    "\n",
    "print(f\"Best Hyperparameters: {best_params}\")\n",
    "\n",
    "\n",
    "# Evaluate the best model on the test set\n",
    "y_pred = best_model.predict(X_test)\n",
    "accuracy = accuracy_score(y_test, y_pred)\n",
    "print(f\"Accuracy of the best model on the test set: {accuracy}\")\n"
   ]
  },
  {
   "cell_type": "code",
   "execution_count": 29,
   "metadata": {
    "colab": {
     "base_uri": "https://localhost:8080/"
    },
    "executionInfo": {
     "elapsed": 666,
     "status": "ok",
     "timestamp": 1734027193365,
     "user": {
      "displayName": "SAJJAD HOSSAIN JIM",
      "userId": "06773040906540873074"
     },
     "user_tz": -360
    },
    "id": "rZL8wbxcEpdi",
    "outputId": "279cb979-8780-46f5-c180-a3cbc9d74d30"
   },
   "outputs": [
    {
     "name": "stdout",
     "output_type": "stream",
     "text": [
      "Accuracy: 0.8558558558558559\n"
     ]
    }
   ],
   "source": [
    "\n",
    "from sklearn.model_selection import train_test_split\n",
    "X=train.drop(columns=['NObeyesdad'], axis=1)\n",
    "y=train['NObeyesdad']\n",
    "X_train, X_test, y_train, y_test = train_test_split(X, y, test_size=0.2, random_state=42)\n",
    "\n",
    "from sklearn.ensemble import RandomForestClassifier\n",
    "from sklearn.metrics import accuracy_score\n",
    "rf_classifier = RandomForestClassifier(random_state=42)\n",
    "rf_classifier.fit(X_train, y_train)\n",
    "y_pred = rf_classifier.predict(X_test)\n",
    "accuracy = accuracy_score(y_test, y_pred)\n",
    "print(\"Accuracy:\", accuracy)"
   ]
  },
  {
   "cell_type": "code",
   "execution_count": 30,
   "metadata": {
    "colab": {
     "base_uri": "https://localhost:8080/"
    },
    "executionInfo": {
     "elapsed": 898,
     "status": "ok",
     "timestamp": 1734027238601,
     "user": {
      "displayName": "SAJJAD HOSSAIN JIM",
      "userId": "06773040906540873074"
     },
     "user_tz": -360
    },
    "id": "yoSm1dczE63r",
    "outputId": "82f241a5-1c14-4f97-f82d-e4e380d0ca2e"
   },
   "outputs": [
    {
     "data": {
      "text/plain": [
       "0.8558558558558559"
      ]
     },
     "execution_count": 30,
     "metadata": {},
     "output_type": "execute_result"
    }
   ],
   "source": [
    "rf=RandomForestClassifier(random_state=42)\n",
    "rf.fit(X_train,y_train)\n",
    "rf.score(X_test, y_test)"
   ]
  },
  {
   "cell_type": "code",
   "execution_count": 31,
   "metadata": {
    "executionInfo": {
     "elapsed": 430,
     "status": "ok",
     "timestamp": 1734027380919,
     "user": {
      "displayName": "SAJJAD HOSSAIN JIM",
      "userId": "06773040906540873074"
     },
     "user_tz": -360
    },
    "id": "k8XQLOPNFL_N"
   },
   "outputs": [],
   "source": [
    "\n",
    "numerical_cols1 = test.select_dtypes(include=['float64', 'int64']).columns\n",
    "test[numerical_cols1] = test[numerical_cols].fillna(test[numerical_cols].mean())"
   ]
  },
  {
   "cell_type": "code",
   "execution_count": null,
   "metadata": {
    "colab": {
     "base_uri": "https://localhost:8080/",
     "height": 617
    },
    "executionInfo": {
     "elapsed": 502,
     "status": "ok",
     "timestamp": 1734027407700,
     "user": {
      "displayName": "SAJJAD HOSSAIN JIM",
      "userId": "06773040906540873074"
     },
     "user_tz": -360
    },
    "id": "khjulmWyFg6o",
    "outputId": "2841497a-7fe2-46ab-efa5-1e039d599a3d"
   },
   "outputs": [],
   "source": [
    "categorical_cols1 = test.select_dtypes(include=['object']).columns\n",
    "test[categorical_cols1] = test[categorical_cols1].fillna(test[categorical_cols1].mode().iloc[0])\n",
    "\n",
    "test.isnull().sum()"
   ]
  },
  {
   "cell_type": "code",
   "execution_count": null,
   "metadata": {
    "colab": {
     "base_uri": "https://localhost:8080/",
     "height": 617
    },
    "executionInfo": {
     "elapsed": 457,
     "status": "ok",
     "timestamp": 1734027940968,
     "user": {
      "displayName": "SAJJAD HOSSAIN JIM",
      "userId": "06773040906540873074"
     },
     "user_tz": -360
    },
    "id": "MNf6xUuaFjH5",
    "outputId": "beb5193c-f697-481b-91de-6e49163515c0"
   },
   "outputs": [],
   "source": [
    "from sklearn.preprocessing import LabelEncoder\n",
    "le1=LabelEncoder()\n",
    "ctg1=test.drop(columns=['ID', 'Age', 'Height', 'Weight', 'NCP', 'CH2O', 'FAF', 'TUE', 'FCVC', 'NCP'])\n",
    "for col in ctg1.columns:\n",
    "  test[col]=le1.fit_transform(test[col])\n",
    "test.dtypes"
   ]
  },
  {
   "cell_type": "code",
   "execution_count": 41,
   "metadata": {
    "colab": {
     "base_uri": "https://localhost:8080/"
    },
    "executionInfo": {
     "elapsed": 669,
     "status": "ok",
     "timestamp": 1734027944940,
     "user": {
      "displayName": "SAJJAD HOSSAIN JIM",
      "userId": "06773040906540873074"
     },
     "user_tz": -360
    },
    "id": "F4YLyw0BG8GJ",
    "outputId": "92297707-a60b-4efe-982e-4b442ae2bad5"
   },
   "outputs": [
    {
     "data": {
      "text/plain": [
       "array(['Overweight_Level_II', 'Overweight_Level_II',\n",
       "       'Overweight_Level_II', ..., 'Overweight_Level_II',\n",
       "       'Overweight_Level_II', 'Overweight_Level_II'], dtype=object)"
      ]
     },
     "execution_count": 41,
     "metadata": {},
     "output_type": "execute_result"
    }
   ],
   "source": [
    "\n",
    "pred = rf.predict(test)\n",
    "pred"
   ]
  },
  {
   "cell_type": "code",
   "execution_count": 45,
   "metadata": {
    "executionInfo": {
     "elapsed": 445,
     "status": "ok",
     "timestamp": 1734027973181,
     "user": {
      "displayName": "SAJJAD HOSSAIN JIM",
      "userId": "06773040906540873074"
     },
     "user_tz": -360
    },
    "id": "g99_BndTHBCK"
   },
   "outputs": [],
   "source": [
    "submission22=pd.DataFrame({'ID':test['ID'], 'NObeyesdad':pred})\n",
    "submission22.to_csv('submission223.csv', index=False)\n",
    "df=pd.read_csv('submission223.csv')"
   ]
  }
 ],
 "metadata": {
  "colab": {
   "authorship_tag": "ABX9TyM1e7xABwHYyCN2qr+ODQ2V",
   "mount_file_id": "1ItZnlBFeJVoN_Gj8LafxfDfJZ7EMuepq",
   "provenance": []
  },
  "kernelspec": {
   "display_name": "Python 3",
   "name": "python3"
  },
  "language_info": {
   "name": "python"
  }
 },
 "nbformat": 4,
 "nbformat_minor": 0
}
