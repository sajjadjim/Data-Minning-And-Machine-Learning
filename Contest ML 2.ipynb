{
 "cells": [
  {
   "cell_type": "code",
   "execution_count": null,
   "metadata": {
    "id": "R5SQIn5zvBqH"
   },
   "outputs": [],
   "source": [
    "import pandas as pd\n",
    "import numpy as np\n",
    "import matplotlib.pyplot as plt\n",
    "import seaborn as sns\n",
    "from sklearn.model_selection import train_test_split, cross_val_score\n",
    "from sklearn.preprocessing import LabelEncoder, OneHotEncoder, StandardScaler\n",
    "from sklearn.impute import SimpleImputer\n",
    "from sklearn.linear_model import LogisticRegression\n",
    "from sklearn.tree import DecisionTreeClassifier\n",
    "from sklearn.ensemble import RandomForestClassifier\n",
    "from sklearn.naive_bayes import GaussianNB\n",
    "from sklearn.svm import SVC\n",
    "from sklearn.cluster import KMeans\n",
    "from sklearn.metrics import accuracy_score, confusion_matrix, classification_report, roc_auc_score, roc_curve\n",
    "from sklearn.neural_network import MLPClassifier"
   ]
  },
  {
   "cell_type": "code",
   "execution_count": null,
   "metadata": {
    "colab": {
     "base_uri": "https://localhost:8080/"
    },
    "executionInfo": {
     "elapsed": 679,
     "status": "ok",
     "timestamp": 1733859891798,
     "user": {
      "displayName": "SAJJAD HOSSAIN JIM",
      "userId": "06773040906540873074"
     },
     "user_tz": -360
    },
    "id": "eVEXZLexvBsh",
    "outputId": "ad8dc063-2f07-4a9d-a855-fb7bf47521b2"
   },
   "outputs": [],
   "source": [
    "# 1. Load and Explore the Dataset\n",
    "data = pd.read_csv('/content/drive/MyDrive/obesity-level-prediction-fall-2024/train.csv')\n",
    "print(\"Dataset Head:\\n\", data.head())\n",
    "print(\"\\nDataset Info:\\n\")\n",
    "data.info()"
   ]
  },
  {
   "cell_type": "code",
   "execution_count": null,
   "metadata": {
    "id": "6hpmeWmU8M2K"
   },
   "outputs": [],
   "source": [
    "\n",
    "numerical_features = data.select_dtypes(include=np.number).columns\n",
    "\n",
    "\n",
    "imputer = SimpleImputer(strategy='mean')\n",
    "data[numerical_features] = imputer.fit_transform(data[numerical_features])\n"
   ]
  },
  {
   "cell_type": "code",
   "execution_count": null,
   "metadata": {
    "id": "gHo7rQwCCLjK"
   },
   "outputs": [],
   "source": [
    "# Now proceed with encoding categorical variables\n",
    "label_encoders = {}\n",
    "for name in data.select_dtypes(include=['object']).columns:\n",
    "    le = LabelEncoder()\n",
    "    data[name] = le.fit_transform(data[name])\n",
    "    label_encoders[name] = le"
   ]
  },
  {
   "cell_type": "code",
   "execution_count": null,
   "metadata": {
    "colab": {
     "base_uri": "https://localhost:8080/"
    },
    "executionInfo": {
     "elapsed": 2,
     "status": "ok",
     "timestamp": 1733859906071,
     "user": {
      "displayName": "SAJJAD HOSSAIN JIM",
      "userId": "06773040906540873074"
     },
     "user_tz": -360
    },
    "id": "axshZp9iCLqg",
    "outputId": "f6a4e4c8-e55a-4f57-97ed-f920266bb9dd"
   },
   "outputs": [],
   "source": [
    "# Standardize numerical features\n",
    "scaler = StandardScaler()\n",
    "data_scaled = pd.DataFrame(scaler.fit_transform(data), columns=data.columns)\n",
    "\n",
    "print(\"\\nProcessed Data Sample:\\n\", data_scaled.head())"
   ]
  },
  {
   "cell_type": "code",
   "execution_count": null,
   "metadata": {
    "colab": {
     "base_uri": "https://localhost:8080/"
    },
    "executionInfo": {
     "elapsed": 349,
     "status": "ok",
     "timestamp": 1733859908487,
     "user": {
      "displayName": "SAJJAD HOSSAIN JIM",
      "userId": "06773040906540873074"
     },
     "user_tz": -360
    },
    "id": "w2s3QiNvFhYg",
    "outputId": "fc186384-0819-465f-c23c-896960398b12"
   },
   "outputs": [],
   "source": [
    "# 3. Data Visualization\n",
    "# Calculate statistics\n",
    "mean_vals = data_scaled.mean()\n",
    "median_vals = data_scaled.median()\n",
    "std_dev_vals = data_scaled.std()\n",
    "var_vals = data_scaled.var()\n",
    "print(\"\\nStatistics:\\nMean:\\n\", mean_vals)\n",
    "print(\"\\nMedian:\\n\", median_vals)\n",
    "print(\"\\nStandard Deviation:\\n\", std_dev_vals)\n",
    "print(\"\\nVariance:\\n\", var_vals)"
   ]
  },
  {
   "cell_type": "code",
   "execution_count": null,
   "metadata": {
    "id": "9dFe4QPpG_Hp"
   },
   "outputs": [],
   "source": [
    "# 5. Classification\n",
    "# Assuming 'NObeyesdad' is the target column based on later code\n",
    "X = data_scaled.drop(columns=['NObeyesdad'])\n",
    "y = data_scaled['NObeyesdad']\n",
    "\n",
    "# Convert y to discrete values if it's continuous\n",
    "if pd.api.types.is_numeric_dtype(y):\n",
    " \n",
    "    y = (y > 0).astype(int)\n",
    "\n",
    "\n",
    "X_train, X_test, y_train, y_test = train_test_split(X, y, test_size=0.2, random_state=42)"
   ]
  },
  {
   "cell_type": "code",
   "execution_count": null,
   "metadata": {
    "colab": {
     "base_uri": "https://localhost:8080/"
    },
    "executionInfo": {
     "elapsed": 2,
     "status": "ok",
     "timestamp": 1733861641371,
     "user": {
      "displayName": "SAJJAD HOSSAIN JIM",
      "userId": "06773040906540873074"
     },
     "user_tz": -360
    },
    "id": "_hr4myfSG2Lj",
    "outputId": "46ce889c-0676-4856-8245-1abc52a73212"
   },
   "outputs": [],
   "source": [
    "# 5. Classification\n",
    "# Check the actual column names in your DataFrame\n",
    "print(data_scaled.columns)\n",
    "\n",
    "# Assuming the target column is named 'NObeyesdad', adjust accordingly\n",
    "X = data_scaled.drop(columns=['NObeyesdad'])\n",
    "# Replace 'target' with the actual target column name\n",
    "y = data_scaled['NObeyesdad']\n",
    "\n",
    "\n",
    "if pd.api.types.is_numeric_dtype(y):\n",
    "\n",
    "    y = (y > 0).astype(int)  # Values above 0 become 1, others become 0\n",
    "    # Alternatively, use pd.qcut for binning into quantiles\n",
    "\n",
    "X_train, X_test, y_train, y_test = train_test_split(X, y, test_size=0.2, random_state=42)"
   ]
  },
  {
   "cell_type": "code",
   "execution_count": null,
   "metadata": {
    "colab": {
     "base_uri": "https://localhost:8080/"
    },
    "executionInfo": {
     "elapsed": 332,
     "status": "ok",
     "timestamp": 1733861643129,
     "user": {
      "displayName": "SAJJAD HOSSAIN JIM",
      "userId": "06773040906540873074"
     },
     "user_tz": -360
    },
    "id": "uhl5Ss3ovBut",
    "outputId": "aa41c8a5-6ad2-497e-891a-05fdda770533"
   },
   "outputs": [
    {
     "name": "stdout",
     "output_type": "stream",
     "text": [
      "Decision Tree Accuracy: 0.8198198198198198\n"
     ]
    }
   ],
   "source": [
    "# Decision Tree\n",
    "dt = DecisionTreeClassifier()\n",
    "dt.fit(X_train, y_train)\n",
    "dt_preds = dt.predict(X_test)\n",
    "print(\"Decision Tree Accuracy:\", accuracy_score(y_test, dt_preds))\n"
   ]
  },
  {
   "cell_type": "code",
   "execution_count": null,
   "metadata": {
    "colab": {
     "base_uri": "https://localhost:8080/"
    },
    "executionInfo": {
     "elapsed": 340,
     "status": "ok",
     "timestamp": 1733861644611,
     "user": {
      "displayName": "SAJJAD HOSSAIN JIM",
      "userId": "06773040906540873074"
     },
     "user_tz": -360
    },
    "id": "iWtJL12tvBwy",
    "outputId": "56673495-f9d9-4ded-b8eb-8e2ed1a513e5"
   },
   "outputs": [
    {
     "name": "stdout",
     "output_type": "stream",
     "text": [
      "Logistic Regression Accuracy: 0.8603603603603603\n"
     ]
    }
   ],
   "source": [
    "y_test# Logistic Regression\n",
    "lr = LogisticRegression()\n",
    "lr.fit(X_train, y_train)\n",
    "lr_preds = lr.predict(X_test)\n",
    "print(\"Logistic Regression Accuracy:\", accuracy_score(y_test, lr_preds))\n"
   ]
  },
  {
   "cell_type": "code",
   "execution_count": null,
   "metadata": {
    "colab": {
     "base_uri": "https://localhost:8080/"
    },
    "executionInfo": {
     "elapsed": 648,
     "status": "ok",
     "timestamp": 1733861646482,
     "user": {
      "displayName": "SAJJAD HOSSAIN JIM",
      "userId": "06773040906540873074"
     },
     "user_tz": -360
    },
    "id": "KBSQUK91vByj",
    "outputId": "68f2b270-c410-4366-ad9d-775f2442e284"
   },
   "outputs": [
    {
     "name": "stdout",
     "output_type": "stream",
     "text": [
      "Random Forest Accuracy: 0.9144144144144144\n"
     ]
    }
   ],
   "source": [
    "# Random Forest\n",
    "rf = RandomForestClassifier()\n",
    "rf.fit(X_train, y_train)\n",
    "rf_preds = rf.predict(X_test)\n",
    "print(\"Random Forest Accuracy:\", accuracy_score(y_test, rf_preds))\n"
   ]
  },
  {
   "cell_type": "code",
   "execution_count": null,
   "metadata": {
    "colab": {
     "base_uri": "https://localhost:8080/"
    },
    "executionInfo": {
     "elapsed": 330,
     "status": "ok",
     "timestamp": 1733861656570,
     "user": {
      "displayName": "SAJJAD HOSSAIN JIM",
      "userId": "06773040906540873074"
     },
     "user_tz": -360
    },
    "id": "YvffWT7cvB06",
    "outputId": "2c8381df-ff92-4689-cf92-755f588e62b4"
   },
   "outputs": [
    {
     "name": "stdout",
     "output_type": "stream",
     "text": [
      "Naive Bayes Accuracy: 0.8153153153153153\n"
     ]
    }
   ],
   "source": [
    "# Naive Bayes\n",
    "nb = GaussianNB()\n",
    "nb.fit(X_train, y_train)\n",
    "nb_preds = nb.predict(X_test)\n",
    "print(\"Naive Bayes Accuracy:\", accuracy_score(y_test, nb_preds))\n"
   ]
  },
  {
   "cell_type": "code",
   "execution_count": null,
   "metadata": {
    "colab": {
     "base_uri": "https://localhost:8080/"
    },
    "collapsed": true,
    "executionInfo": {
     "elapsed": 322,
     "status": "ok",
     "timestamp": 1733861663180,
     "user": {
      "displayName": "SAJJAD HOSSAIN JIM",
      "userId": "06773040906540873074"
     },
     "user_tz": -360
    },
    "id": "bcOMSJPcvCGw",
    "outputId": "f2a66709-4381-4ac6-a8d8-07a664034f29"
   },
   "outputs": [
    {
     "name": "stdout",
     "output_type": "stream",
     "text": [
      "Cross-Validation Scores: [0.58108108 0.81531532 0.8963964  0.94594595 0.9009009 ]\n",
      "Average Cross-Validation Score: 0.8279279279279279\n"
     ]
    }
   ],
   "source": [
    "# Cross Validation\n",
    "cv_scores = cross_val_score(LogisticRegression(), X, y, cv=5)\n",
    "print(\"Cross-Validation Scores:\", cv_scores)\n",
    "print(\"Average Cross-Validation Score:\", np.mean(cv_scores))"
   ]
  },
  {
   "cell_type": "code",
   "execution_count": null,
   "metadata": {
    "colab": {
     "base_uri": "https://localhost:8080/"
    },
    "executionInfo": {
     "elapsed": 1676,
     "status": "ok",
     "timestamp": 1733861666225,
     "user": {
      "displayName": "SAJJAD HOSSAIN JIM",
      "userId": "06773040906540873074"
     },
     "user_tz": -360
    },
    "id": "7oPNyjVuNJtD",
    "outputId": "f581925d-5eec-4018-a98e-8e0b8dee91c4"
   },
   "outputs": [
    {
     "name": "stdout",
     "output_type": "stream",
     "text": [
      "Neural Network Accuracy: 0.8468468468468469\n",
      "\n",
      "Classification Report:\n",
      "               precision    recall  f1-score   support\n",
      "\n",
      "           0       0.86      0.88      0.87       129\n",
      "           1       0.82      0.81      0.82        93\n",
      "\n",
      "    accuracy                           0.85       222\n",
      "   macro avg       0.84      0.84      0.84       222\n",
      "weighted avg       0.85      0.85      0.85       222\n",
      "\n"
     ]
    }
   ],
   "source": [
    "# 7. Neural Network\n",
    "nn = MLPClassifier(hidden_layer_sizes=(50, 25), max_iter=500, random_state=42)\n",
    "nn.fit(X_train, y_train)\n",
    "nn_preds = nn.predict(X_test)\n",
    "print(\"Neural Network Accuracy:\", accuracy_score(y_test, nn_preds))\n",
    "print(\"\\nClassification Report:\\n\", classification_report(y_test, nn_preds))\n"
   ]
  },
  {
   "cell_type": "code",
   "execution_count": null,
   "metadata": {
    "colab": {
     "base_uri": "https://localhost:8080/"
    },
    "executionInfo": {
     "elapsed": 2,
     "status": "ok",
     "timestamp": 1733861666582,
     "user": {
      "displayName": "SAJJAD HOSSAIN JIM",
      "userId": "06773040906540873074"
     },
     "user_tz": -360
    },
    "id": "6jKg90_p4bVV",
    "outputId": "d87ddc75-79f5-433e-9ff9-c280e27b9e48"
   },
   "outputs": [],
   "source": [
    "# Result Analysis\n",
    "results = {\n",
    "    \"Model\": [\"Decision Tree\", \"Logistic Regression\", \"Random Forest\", \"Naive Bayes\", \"Neural Network\"], # Removed 'SVM' from Model list\n",
    "    \"Accuracy\": [\n",
    "        accuracy_score(y_test, dt_preds),\n",
    "        accuracy_score(y_test, lr_preds),\n",
    "        accuracy_score(y_test, rf_preds),\n",
    "        accuracy_score(y_test, nb_preds),\n",
    "        accuracy_score(y_test, nn_preds),\n",
    "    ]\n",
    "}\n",
    "results_df = pd.DataFrame(results)\n",
    "print(\"\\nModel Performance Comparison:\\n\", results_df)"
   ]
  },
  {
   "cell_type": "code",
   "execution_count": null,
   "metadata": {
    "colab": {
     "base_uri": "https://localhost:8080/"
    },
    "executionInfo": {
     "elapsed": 318,
     "status": "ok",
     "timestamp": 1733861673914,
     "user": {
      "displayName": "SAJJAD HOSSAIN JIM",
      "userId": "06773040906540873074"
     },
     "user_tz": -360
    },
    "id": "wkfO9x7iMOJ2",
    "outputId": "b07296e5-133c-4f0e-d5ac-912d7d68021b"
   },
   "outputs": [
    {
     "name": "stdout",
     "output_type": "stream",
     "text": [
      "\n",
      "Best Model:\n",
      " Model       Random Forest\n",
      "Accuracy         0.914414\n",
      "Name: 2, dtype: object\n"
     ]
    }
   ],
   "source": [
    "import pandas as pd\n",
    "best_model = results_df.loc[results_df['Accuracy'].idxmax()]\n",
    "print(\"\\nBest Model:\\n\", best_model)"
   ]
  },
  {
   "cell_type": "code",
   "execution_count": null,
   "metadata": {
    "id": "bcoTIH7RStGu"
   },
   "outputs": [],
   "source": [
    "# prompt: load new csv file\n",
    "\n",
    "import pandas as pd\n",
    "new_data = \"pd.read_csv('/content/drive/MyDrive/obesity-level-prediction-fall-2024/test.csv')\""
   ]
  },
  {
   "cell_type": "code",
   "execution_count": null,
   "metadata": {
    "id": "dxgsIEpdS4Lo"
   },
   "outputs": [],
   "source": [
    "# prompt: prepocessing and null value delete this dataset\n",
    "import pandas as pd\n",
    "import numpy as np\n",
    "from sklearn.model_selection import train_test_split\n",
    "from sklearn.preprocessing import LabelEncoder, StandardScaler\n",
    "from sklearn.impute import SimpleImputer\n",
    "# Load the dataset\n",
    "data = pd.read_csv('/content/drive/MyDrive/obesity-level-prediction-fall-2024/train.csv')\n",
    "\n",
    "# Handle missing values (numerical features)\n",
    "numerical_cols = data.select_dtypes(include=np.number).columns\n",
    "imputer = SimpleImputer(strategy='mean')\n",
    "data[numerical_cols] = imputer.fit_transform(data[numerical_cols])\n",
    "\n",
    "# Encode categorical features\n",
    "categorical_cols = data.select_dtypes(include=['object']).columns\n",
    "label_encoders = {}\n",
    "for col in categorical_cols:\n",
    "    le = LabelEncoder()\n",
    "    data[col] = le.fit_transform(data[col])\n",
    "    label_encoders[col] = le\n",
    "\n",
    "# Scale numerical features\n",
    "scaler = StandardScaler()\n",
    "data_scaled = pd.DataFrame(scaler.fit_transform(data), columns=data.columns)\n",
    "\n",
    "X = data_scaled.drop('NObeyesdad', axis=1)\n",
    "y = data_scaled['NObeyesdad']\n",
    "\n",
    "\n",
    "X_train, X_test, y_train, y_test = train_test_split(X, y, test_size=0.2, random_state=42)"
   ]
  },
  {
   "cell_type": "code",
   "execution_count": null,
   "metadata": {
    "id": "u7O18VO0T9Rm"
   },
   "outputs": [],
   "source": [
    "# prompt: implement the random forest model in this new Dataset here and find out the accuraccy\n",
    "from sklearn.ensemble import RandomForestClassifier\n",
    "from sklearn.metrics import accuracy_score\n",
    "# Random Forest (already present in the provided code)\n",
    "rf = RandomForestClassifier()\n",
    "\n",
    "# Convert y_train to discrete values if it's continuous\n",
    "if pd.api.types.is_numeric_dtype(y_train):\n",
    "\n",
    "    y_train = (y_train > 0).astype(int)"
   ]
  },
  {
   "cell_type": "code",
   "execution_count": null,
   "metadata": {
    "colab": {
     "base_uri": "https://localhost:8080/"
    },
    "executionInfo": {
     "elapsed": 336,
     "status": "ok",
     "timestamp": 1733863452977,
     "user": {
      "displayName": "SAJJAD HOSSAIN JIM",
      "userId": "06773040906540873074"
     },
     "user_tz": -360
    },
    "id": "npl5f1j2UKfg",
    "outputId": "a0f27109-37ba-4d78-e1f7-c617bf3d48c6"
   },
   "outputs": [
    {
     "name": "stdout",
     "output_type": "stream",
     "text": [
      "Random Forest Accuracy: 0.9144144144144144\n"
     ]
    }
   ],
   "source": [
    "\n",
    "rf = RandomForestClassifier()\n",
    "rf.fit(X_train, y_train)\n",
    "rf_preds = rf.predict(X_test)\n",
    "\n",
    "# Convert y_test to discrete values if it's continuous, similar to y_train\n",
    "if pd.api.types.is_numeric_dtype(y_test):\n",
    "    y_test = (y_test > 0).astype(int)\n",
    "\n",
    "print(\"Random Forest Accuracy:\", accuracy_score(y_test, rf_preds))"
   ]
  },
  {
   "cell_type": "code",
   "execution_count": null,
   "metadata": {
    "colab": {
     "base_uri": "https://localhost:8080/",
     "height": 80
    },
    "executionInfo": {
     "elapsed": 658,
     "status": "ok",
     "timestamp": 1733864217053,
     "user": {
      "displayName": "SAJJAD HOSSAIN JIM",
      "userId": "06773040906540873074"
     },
     "user_tz": -360
    },
    "id": "GKmMgoD6VjMB",
    "outputId": "dc8021dd-3b21-4be5-82b0-1faae7a67762"
   },
   "outputs": [
    {
     "data": {
      "text/html": [
       "<style>#sk-container-id-5 {\n",
       "  /* Definition of color scheme common for light and dark mode */\n",
       "  --sklearn-color-text: black;\n",
       "  --sklearn-color-line: gray;\n",
       "  /* Definition of color scheme for unfitted estimators */\n",
       "  --sklearn-color-unfitted-level-0: #fff5e6;\n",
       "  --sklearn-color-unfitted-level-1: #f6e4d2;\n",
       "  --sklearn-color-unfitted-level-2: #ffe0b3;\n",
       "  --sklearn-color-unfitted-level-3: chocolate;\n",
       "  /* Definition of color scheme for fitted estimators */\n",
       "  --sklearn-color-fitted-level-0: #f0f8ff;\n",
       "  --sklearn-color-fitted-level-1: #d4ebff;\n",
       "  --sklearn-color-fitted-level-2: #b3dbfd;\n",
       "  --sklearn-color-fitted-level-3: cornflowerblue;\n",
       "\n",
       "  /* Specific color for light theme */\n",
       "  --sklearn-color-text-on-default-background: var(--sg-text-color, var(--theme-code-foreground, var(--jp-content-font-color1, black)));\n",
       "  --sklearn-color-background: var(--sg-background-color, var(--theme-background, var(--jp-layout-color0, white)));\n",
       "  --sklearn-color-border-box: var(--sg-text-color, var(--theme-code-foreground, var(--jp-content-font-color1, black)));\n",
       "  --sklearn-color-icon: #696969;\n",
       "\n",
       "  @media (prefers-color-scheme: dark) {\n",
       "    /* Redefinition of color scheme for dark theme */\n",
       "    --sklearn-color-text-on-default-background: var(--sg-text-color, var(--theme-code-foreground, var(--jp-content-font-color1, white)));\n",
       "    --sklearn-color-background: var(--sg-background-color, var(--theme-background, var(--jp-layout-color0, #111)));\n",
       "    --sklearn-color-border-box: var(--sg-text-color, var(--theme-code-foreground, var(--jp-content-font-color1, white)));\n",
       "    --sklearn-color-icon: #878787;\n",
       "  }\n",
       "}\n",
       "\n",
       "#sk-container-id-5 {\n",
       "  color: var(--sklearn-color-text);\n",
       "}\n",
       "\n",
       "#sk-container-id-5 pre {\n",
       "  padding: 0;\n",
       "}\n",
       "\n",
       "#sk-container-id-5 input.sk-hidden--visually {\n",
       "  border: 0;\n",
       "  clip: rect(1px 1px 1px 1px);\n",
       "  clip: rect(1px, 1px, 1px, 1px);\n",
       "  height: 1px;\n",
       "  margin: -1px;\n",
       "  overflow: hidden;\n",
       "  padding: 0;\n",
       "  position: absolute;\n",
       "  width: 1px;\n",
       "}\n",
       "\n",
       "#sk-container-id-5 div.sk-dashed-wrapped {\n",
       "  border: 1px dashed var(--sklearn-color-line);\n",
       "  margin: 0 0.4em 0.5em 0.4em;\n",
       "  box-sizing: border-box;\n",
       "  padding-bottom: 0.4em;\n",
       "  background-color: var(--sklearn-color-background);\n",
       "}\n",
       "\n",
       "#sk-container-id-5 div.sk-container {\n",
       "  /* jupyter's `normalize.less` sets `[hidden] { display: none; }`\n",
       "     but bootstrap.min.css set `[hidden] { display: none !important; }`\n",
       "     so we also need the `!important` here to be able to override the\n",
       "     default hidden behavior on the sphinx rendered scikit-learn.org.\n",
       "     See: https://github.com/scikit-learn/scikit-learn/issues/21755 */\n",
       "  display: inline-block !important;\n",
       "  position: relative;\n",
       "}\n",
       "\n",
       "#sk-container-id-5 div.sk-text-repr-fallback {\n",
       "  display: none;\n",
       "}\n",
       "\n",
       "div.sk-parallel-item,\n",
       "div.sk-serial,\n",
       "div.sk-item {\n",
       "  /* draw centered vertical line to link estimators */\n",
       "  background-image: linear-gradient(var(--sklearn-color-text-on-default-background), var(--sklearn-color-text-on-default-background));\n",
       "  background-size: 2px 100%;\n",
       "  background-repeat: no-repeat;\n",
       "  background-position: center center;\n",
       "}\n",
       "\n",
       "/* Parallel-specific style estimator block */\n",
       "\n",
       "#sk-container-id-5 div.sk-parallel-item::after {\n",
       "  content: \"\";\n",
       "  width: 100%;\n",
       "  border-bottom: 2px solid var(--sklearn-color-text-on-default-background);\n",
       "  flex-grow: 1;\n",
       "}\n",
       "\n",
       "#sk-container-id-5 div.sk-parallel {\n",
       "  display: flex;\n",
       "  align-items: stretch;\n",
       "  justify-content: center;\n",
       "  background-color: var(--sklearn-color-background);\n",
       "  position: relative;\n",
       "}\n",
       "\n",
       "#sk-container-id-5 div.sk-parallel-item {\n",
       "  display: flex;\n",
       "  flex-direction: column;\n",
       "}\n",
       "\n",
       "#sk-container-id-5 div.sk-parallel-item:first-child::after {\n",
       "  align-self: flex-end;\n",
       "  width: 50%;\n",
       "}\n",
       "\n",
       "#sk-container-id-5 div.sk-parallel-item:last-child::after {\n",
       "  align-self: flex-start;\n",
       "  width: 50%;\n",
       "}\n",
       "\n",
       "#sk-container-id-5 div.sk-parallel-item:only-child::after {\n",
       "  width: 0;\n",
       "}\n",
       "\n",
       "/* Serial-specific style estimator block */\n",
       "\n",
       "#sk-container-id-5 div.sk-serial {\n",
       "  display: flex;\n",
       "  flex-direction: column;\n",
       "  align-items: center;\n",
       "  background-color: var(--sklearn-color-background);\n",
       "  padding-right: 1em;\n",
       "  padding-left: 1em;\n",
       "}\n",
       "\n",
       "\n",
       "/* Toggleable style: style used for estimator/Pipeline/ColumnTransformer box that is\n",
       "clickable and can be expanded/collapsed.\n",
       "- Pipeline and ColumnTransformer use this feature and define the default style\n",
       "- Estimators will overwrite some part of the style using the `sk-estimator` class\n",
       "*/\n",
       "\n",
       "/* Pipeline and ColumnTransformer style (default) */\n",
       "\n",
       "#sk-container-id-5 div.sk-toggleable {\n",
       "  /* Default theme specific background. It is overwritten whether we have a\n",
       "  specific estimator or a Pipeline/ColumnTransformer */\n",
       "  background-color: var(--sklearn-color-background);\n",
       "}\n",
       "\n",
       "/* Toggleable label */\n",
       "#sk-container-id-5 label.sk-toggleable__label {\n",
       "  cursor: pointer;\n",
       "  display: block;\n",
       "  width: 100%;\n",
       "  margin-bottom: 0;\n",
       "  padding: 0.5em;\n",
       "  box-sizing: border-box;\n",
       "  text-align: center;\n",
       "}\n",
       "\n",
       "#sk-container-id-5 label.sk-toggleable__label-arrow:before {\n",
       "  /* Arrow on the left of the label */\n",
       "  content: \"▸\";\n",
       "  float: left;\n",
       "  margin-right: 0.25em;\n",
       "  color: var(--sklearn-color-icon);\n",
       "}\n",
       "\n",
       "#sk-container-id-5 label.sk-toggleable__label-arrow:hover:before {\n",
       "  color: var(--sklearn-color-text);\n",
       "}\n",
       "\n",
       "/* Toggleable content - dropdown */\n",
       "\n",
       "#sk-container-id-5 div.sk-toggleable__content {\n",
       "  max-height: 0;\n",
       "  max-width: 0;\n",
       "  overflow: hidden;\n",
       "  text-align: left;\n",
       "  /* unfitted */\n",
       "  background-color: var(--sklearn-color-unfitted-level-0);\n",
       "}\n",
       "\n",
       "#sk-container-id-5 div.sk-toggleable__content.fitted {\n",
       "  /* fitted */\n",
       "  background-color: var(--sklearn-color-fitted-level-0);\n",
       "}\n",
       "\n",
       "#sk-container-id-5 div.sk-toggleable__content pre {\n",
       "  margin: 0.2em;\n",
       "  border-radius: 0.25em;\n",
       "  color: var(--sklearn-color-text);\n",
       "  /* unfitted */\n",
       "  background-color: var(--sklearn-color-unfitted-level-0);\n",
       "}\n",
       "\n",
       "#sk-container-id-5 div.sk-toggleable__content.fitted pre {\n",
       "  /* unfitted */\n",
       "  background-color: var(--sklearn-color-fitted-level-0);\n",
       "}\n",
       "\n",
       "#sk-container-id-5 input.sk-toggleable__control:checked~div.sk-toggleable__content {\n",
       "  /* Expand drop-down */\n",
       "  max-height: 200px;\n",
       "  max-width: 100%;\n",
       "  overflow: auto;\n",
       "}\n",
       "\n",
       "#sk-container-id-5 input.sk-toggleable__control:checked~label.sk-toggleable__label-arrow:before {\n",
       "  content: \"▾\";\n",
       "}\n",
       "\n",
       "/* Pipeline/ColumnTransformer-specific style */\n",
       "\n",
       "#sk-container-id-5 div.sk-label input.sk-toggleable__control:checked~label.sk-toggleable__label {\n",
       "  color: var(--sklearn-color-text);\n",
       "  background-color: var(--sklearn-color-unfitted-level-2);\n",
       "}\n",
       "\n",
       "#sk-container-id-5 div.sk-label.fitted input.sk-toggleable__control:checked~label.sk-toggleable__label {\n",
       "  background-color: var(--sklearn-color-fitted-level-2);\n",
       "}\n",
       "\n",
       "/* Estimator-specific style */\n",
       "\n",
       "/* Colorize estimator box */\n",
       "#sk-container-id-5 div.sk-estimator input.sk-toggleable__control:checked~label.sk-toggleable__label {\n",
       "  /* unfitted */\n",
       "  background-color: var(--sklearn-color-unfitted-level-2);\n",
       "}\n",
       "\n",
       "#sk-container-id-5 div.sk-estimator.fitted input.sk-toggleable__control:checked~label.sk-toggleable__label {\n",
       "  /* fitted */\n",
       "  background-color: var(--sklearn-color-fitted-level-2);\n",
       "}\n",
       "\n",
       "#sk-container-id-5 div.sk-label label.sk-toggleable__label,\n",
       "#sk-container-id-5 div.sk-label label {\n",
       "  /* The background is the default theme color */\n",
       "  color: var(--sklearn-color-text-on-default-background);\n",
       "}\n",
       "\n",
       "/* On hover, darken the color of the background */\n",
       "#sk-container-id-5 div.sk-label:hover label.sk-toggleable__label {\n",
       "  color: var(--sklearn-color-text);\n",
       "  background-color: var(--sklearn-color-unfitted-level-2);\n",
       "}\n",
       "\n",
       "/* Label box, darken color on hover, fitted */\n",
       "#sk-container-id-5 div.sk-label.fitted:hover label.sk-toggleable__label.fitted {\n",
       "  color: var(--sklearn-color-text);\n",
       "  background-color: var(--sklearn-color-fitted-level-2);\n",
       "}\n",
       "\n",
       "/* Estimator label */\n",
       "\n",
       "#sk-container-id-5 div.sk-label label {\n",
       "  font-family: monospace;\n",
       "  font-weight: bold;\n",
       "  display: inline-block;\n",
       "  line-height: 1.2em;\n",
       "}\n",
       "\n",
       "#sk-container-id-5 div.sk-label-container {\n",
       "  text-align: center;\n",
       "}\n",
       "\n",
       "/* Estimator-specific */\n",
       "#sk-container-id-5 div.sk-estimator {\n",
       "  font-family: monospace;\n",
       "  border: 1px dotted var(--sklearn-color-border-box);\n",
       "  border-radius: 0.25em;\n",
       "  box-sizing: border-box;\n",
       "  margin-bottom: 0.5em;\n",
       "  /* unfitted */\n",
       "  background-color: var(--sklearn-color-unfitted-level-0);\n",
       "}\n",
       "\n",
       "#sk-container-id-5 div.sk-estimator.fitted {\n",
       "  /* fitted */\n",
       "  background-color: var(--sklearn-color-fitted-level-0);\n",
       "}\n",
       "\n",
       "/* on hover */\n",
       "#sk-container-id-5 div.sk-estimator:hover {\n",
       "  /* unfitted */\n",
       "  background-color: var(--sklearn-color-unfitted-level-2);\n",
       "}\n",
       "\n",
       "#sk-container-id-5 div.sk-estimator.fitted:hover {\n",
       "  /* fitted */\n",
       "  background-color: var(--sklearn-color-fitted-level-2);\n",
       "}\n",
       "\n",
       "/* Specification for estimator info (e.g. \"i\" and \"?\") */\n",
       "\n",
       "/* Common style for \"i\" and \"?\" */\n",
       "\n",
       ".sk-estimator-doc-link,\n",
       "a:link.sk-estimator-doc-link,\n",
       "a:visited.sk-estimator-doc-link {\n",
       "  float: right;\n",
       "  font-size: smaller;\n",
       "  line-height: 1em;\n",
       "  font-family: monospace;\n",
       "  background-color: var(--sklearn-color-background);\n",
       "  border-radius: 1em;\n",
       "  height: 1em;\n",
       "  width: 1em;\n",
       "  text-decoration: none !important;\n",
       "  margin-left: 1ex;\n",
       "  /* unfitted */\n",
       "  border: var(--sklearn-color-unfitted-level-1) 1pt solid;\n",
       "  color: var(--sklearn-color-unfitted-level-1);\n",
       "}\n",
       "\n",
       ".sk-estimator-doc-link.fitted,\n",
       "a:link.sk-estimator-doc-link.fitted,\n",
       "a:visited.sk-estimator-doc-link.fitted {\n",
       "  /* fitted */\n",
       "  border: var(--sklearn-color-fitted-level-1) 1pt solid;\n",
       "  color: var(--sklearn-color-fitted-level-1);\n",
       "}\n",
       "\n",
       "/* On hover */\n",
       "div.sk-estimator:hover .sk-estimator-doc-link:hover,\n",
       ".sk-estimator-doc-link:hover,\n",
       "div.sk-label-container:hover .sk-estimator-doc-link:hover,\n",
       ".sk-estimator-doc-link:hover {\n",
       "  /* unfitted */\n",
       "  background-color: var(--sklearn-color-unfitted-level-3);\n",
       "  color: var(--sklearn-color-background);\n",
       "  text-decoration: none;\n",
       "}\n",
       "\n",
       "div.sk-estimator.fitted:hover .sk-estimator-doc-link.fitted:hover,\n",
       ".sk-estimator-doc-link.fitted:hover,\n",
       "div.sk-label-container:hover .sk-estimator-doc-link.fitted:hover,\n",
       ".sk-estimator-doc-link.fitted:hover {\n",
       "  /* fitted */\n",
       "  background-color: var(--sklearn-color-fitted-level-3);\n",
       "  color: var(--sklearn-color-background);\n",
       "  text-decoration: none;\n",
       "}\n",
       "\n",
       "/* Span, style for the box shown on hovering the info icon */\n",
       ".sk-estimator-doc-link span {\n",
       "  display: none;\n",
       "  z-index: 9999;\n",
       "  position: relative;\n",
       "  font-weight: normal;\n",
       "  right: .2ex;\n",
       "  padding: .5ex;\n",
       "  margin: .5ex;\n",
       "  width: min-content;\n",
       "  min-width: 20ex;\n",
       "  max-width: 50ex;\n",
       "  color: var(--sklearn-color-text);\n",
       "  box-shadow: 2pt 2pt 4pt #999;\n",
       "  /* unfitted */\n",
       "  background: var(--sklearn-color-unfitted-level-0);\n",
       "  border: .5pt solid var(--sklearn-color-unfitted-level-3);\n",
       "}\n",
       "\n",
       ".sk-estimator-doc-link.fitted span {\n",
       "  /* fitted */\n",
       "  background: var(--sklearn-color-fitted-level-0);\n",
       "  border: var(--sklearn-color-fitted-level-3);\n",
       "}\n",
       "\n",
       ".sk-estimator-doc-link:hover span {\n",
       "  display: block;\n",
       "}\n",
       "\n",
       "/* \"?\"-specific style due to the `<a>` HTML tag */\n",
       "\n",
       "#sk-container-id-5 a.estimator_doc_link {\n",
       "  float: right;\n",
       "  font-size: 1rem;\n",
       "  line-height: 1em;\n",
       "  font-family: monospace;\n",
       "  background-color: var(--sklearn-color-background);\n",
       "  border-radius: 1rem;\n",
       "  height: 1rem;\n",
       "  width: 1rem;\n",
       "  text-decoration: none;\n",
       "  /* unfitted */\n",
       "  color: var(--sklearn-color-unfitted-level-1);\n",
       "  border: var(--sklearn-color-unfitted-level-1) 1pt solid;\n",
       "}\n",
       "\n",
       "#sk-container-id-5 a.estimator_doc_link.fitted {\n",
       "  /* fitted */\n",
       "  border: var(--sklearn-color-fitted-level-1) 1pt solid;\n",
       "  color: var(--sklearn-color-fitted-level-1);\n",
       "}\n",
       "\n",
       "/* On hover */\n",
       "#sk-container-id-5 a.estimator_doc_link:hover {\n",
       "  /* unfitted */\n",
       "  background-color: var(--sklearn-color-unfitted-level-3);\n",
       "  color: var(--sklearn-color-background);\n",
       "  text-decoration: none;\n",
       "}\n",
       "\n",
       "#sk-container-id-5 a.estimator_doc_link.fitted:hover {\n",
       "  /* fitted */\n",
       "  background-color: var(--sklearn-color-fitted-level-3);\n",
       "}\n",
       "</style><div id=\"sk-container-id-5\" class=\"sk-top-container\"><div class=\"sk-text-repr-fallback\"><pre>RandomForestClassifier()</pre><b>In a Jupyter environment, please rerun this cell to show the HTML representation or trust the notebook. <br />On GitHub, the HTML representation is unable to render, please try loading this page with nbviewer.org.</b></div><div class=\"sk-container\" hidden><div class=\"sk-item\"><div class=\"sk-estimator fitted sk-toggleable\"><input class=\"sk-toggleable__control sk-hidden--visually\" id=\"sk-estimator-id-5\" type=\"checkbox\" checked><label for=\"sk-estimator-id-5\" class=\"sk-toggleable__label fitted sk-toggleable__label-arrow fitted\">&nbsp;&nbsp;RandomForestClassifier<a class=\"sk-estimator-doc-link fitted\" rel=\"noreferrer\" target=\"_blank\" href=\"https://scikit-learn.org/1.5/modules/generated/sklearn.ensemble.RandomForestClassifier.html\">?<span>Documentation for RandomForestClassifier</span></a><span class=\"sk-estimator-doc-link fitted\">i<span>Fitted</span></span></label><div class=\"sk-toggleable__content fitted\"><pre>RandomForestClassifier()</pre></div> </div></div></div></div>"
      ],
      "text/plain": [
       "RandomForestClassifier()"
      ]
     },
     "execution_count": 97,
     "metadata": {},
     "output_type": "execute_result"
    }
   ],
   "source": [
    "# prompt: now preddiction the dataset model\n",
    "\n",
    "import pandas as pd\n",
    "import numpy as np\n",
    "from sklearn.model_selection import train_test_split\n",
    "from sklearn.preprocessing import LabelEncoder, StandardScaler\n",
    "from sklearn.impute import SimpleImputer\n",
    "from sklearn.ensemble import RandomForestClassifier\n",
    "from sklearn.metrics import accuracy_score\n",
    "\n",
    "# Load the training dataset\n",
    "train_data = pd.read_csv('/content/drive/MyDrive/obesity-level-prediction-fall-2024/train.csv')\n",
    "\n",
    "# Load the test dataset\n",
    "test_data = pd.read_csv('/content/drive/MyDrive/obesity-level-prediction-fall-2024/test.csv')\n",
    "\n",
    "# Preprocessing for training data (same as before)\n",
    "numerical_cols = train_data.select_dtypes(include=np.number).columns\n",
    "imputer = SimpleImputer(strategy='mean')\n",
    "train_data[numerical_cols] = imputer.fit_transform(train_data[numerical_cols])\n",
    "\n",
    "categorical_cols = train_data.select_dtypes(include=['object']).columns\n",
    "label_encoders = {}\n",
    "for col in categorical_cols:\n",
    "    le = LabelEncoder()\n",
    "    train_data[col] = le.fit_transform(train_data[col])\n",
    "    label_encoders[col] = le\n",
    "\n",
    "#Fit the scaler only on the features used for training (excluding the target variable)\n",
    "scaler = StandardScaler()\n",
    "X_train = train_data.drop('NObeyesdad', axis=1)  # Drop the target variable before scaling\n",
    "scaler.fit(X_train) #Fit the scaler on the training features\n",
    "train_data_scaled = pd.DataFrame(scaler.transform(X_train), columns=X_train.columns) # Transform the training data\n",
    "# Extract the target variable after scaling\n",
    "y_train = train_data['NObeyesdad']\n",
    "\n",
    "\n",
    "# Convert y_train to discrete values if it's continuous\n",
    "if pd.api.types.is_numeric_dtype(y_train):\n",
    "    y_train = (y_train > 0).astype(int)\n",
    "\n",
    "test_data[numerical_cols] = imputer.transform(test_data[numerical_cols]) # Impute all numerical columns\n",
    "\n",
    "# Exclude 'NObeyesdad' from categorical_cols when processing test data\n",
    "categorical_cols_test = [col for col in categorical_cols if col in test_data.columns]\n",
    "\n",
    "for col in categorical_cols_test:  # Use categorical_cols_test here\n",
    "\n",
    "    test_data[col] = test_data[col].map(lambda s: '<unknown>' if s not in label_encoders[col].classes_ else s)\n",
    "    # Add the '<unknown>' category to the label encoder if it's not already there\n",
    "    label_encoders[col].classes_ = np.append(label_encoders[col].classes_, '<unknown>')\n",
    "    test_data[col] = label_encoders[col].transform(test_data[col])\n",
    "\n",
    "#Transform the test data using the same scaler fitted on the training features\n",
    "test_data_scaled = pd.DataFrame(scaler.transform(test_data), columns=test_data.columns) # Use transform, not fit_transform\n",
    "X_test = test_data_scaled.drop('NObeyesdad', axis=1, errors='ignore') # Assuming 'NObeyesdad' is also in the test set. If not, remove this line and adjust X_test. Ignore if the column is not present\n",
    "\n",
    "\n",
    "# Train the model\n",
    "rf = RandomForestClassifier()\n",
    "rf.fit(X_train, y_train) #Train on the original training data\n",
    "\n",
    "# Make predictions on"
   ]
  },
  {
   "cell_type": "code",
   "execution_count": null,
   "metadata": {
    "id": "FxvrIth3Wqzo"
   },
   "outputs": [],
   "source": [
    "# prompt: now make a csv file on preddicted test dataset which i find the accuracy with the random forest model implement now give me a csv dataset which have  two row and column ID an NObeyesdad\n",
    "\n",
    "import pandas as pd\n",
    "import numpy as np\n",
    "from sklearn.model_selection import train_test_split\n",
    "from sklearn.preprocessing import LabelEncoder, StandardScaler\n",
    "from sklearn.impute import SimpleImputer\n",
    "from sklearn.ensemble import RandomForestClassifier\n",
    "from sklearn.metrics import accuracy_score\n",
    "\n",
    "# Load the training dataset\n",
    "train_data = pd.read_csv('/content/drive/MyDrive/obesity-level-prediction-fall-2024/train.csv')\n",
    "\n",
    "# Load the test dataset\n",
    "test_data = pd.read_csv('/content/drive/MyDrive/obesity-level-prediction-fall-2024/test.csv')\n",
    "\n",
    "# Preprocessing for training data\n",
    "numerical_cols = train_data.select_dtypes(include=np.number).columns\n",
    "imputer = SimpleImputer(strategy='mean')\n",
    "train_data[numerical_cols] = imputer.fit_transform(train_data[numerical_cols])\n",
    "\n",
    "categorical_cols = train_data.select_dtypes(include=['object']).columns\n",
    "label_encoders = {}\n",
    "for col in categorical_cols:\n",
    "    le = LabelEncoder()\n",
    "    train_data[col] = le.fit_transform(train_data[col])\n",
    "    label_encoders[col] = le\n",
    "\n",
    "scaler = StandardScaler()\n",
    "X_train = train_data.drop('NObeyesdad', axis=1)\n",
    "scaler.fit(X_train)\n",
    "train_data_scaled = pd.DataFrame(scaler.transform(X_train), columns=X_train.columns)\n",
    "y_train = train_data['NObeyesdad']\n",
    "\n",
    "if pd.api.types.is_numeric_dtype(y_train):\n",
    "    y_train = (y_train > 0).astype(int)\n",
    "\n",
    "# Preprocessing for test data\n",
    "test_data[numerical_cols] = imputer.transform(test_data[numerical_cols])\n",
    "\n",
    "categorical_cols_test = [col for col in categorical_cols if col in test_data.columns]\n",
    "for col in categorical_cols_test:\n",
    "    test_data[col] = test_data[col].map(lambda s: '<unknown>' if s not in label_encoders[col].classes_ else s)\n",
    "    label_encoders[col].classes_ = np.append(label_encoders[col].classes_, '<unknown>')\n",
    "    test_data[col] = label_encoders[col].transform(test_data[col])\n",
    "\n",
    "test_data_scaled = pd.DataFrame(scaler.transform(test_data), columns=test_data.columns)\n",
    "X_test = test_data_scaled.drop('NObeyesdad', axis=1, errors='ignore')\n",
    "\n",
    "# Train the model\n",
    "rf = RandomForestClassifier()\n",
    "rf.fit(train_data_scaled, y_train)\n",
    "\n",
    "# Make predictions\n",
    "rf_preds = rf.predict(X_test)\n",
    "\n",
    "# Create a DataFrame for the predictions\n",
    "predictions_df = pd.DataFrame({'ID': test_data.index, 'NObeyesdad': rf_preds})\n",
    "\n",
    "# Save the predictions to a CSV file\n",
    "predictions_df.to_csv('predicted_test_data.csv', index=True)"
   ]
  },
  {
   "cell_type": "code",
   "execution_count": null,
   "metadata": {
    "id": "flD25kHsYBYw"
   },
   "outputs": [],
   "source": [
    "preddiction = RandomForestClassifier(test_data)"
   ]
  },
  {
   "cell_type": "code",
   "execution_count": null,
   "metadata": {
    "colab": {
     "base_uri": "https://localhost:8080/",
     "height": 257
    },
    "executionInfo": {
     "elapsed": 552,
     "status": "ok",
     "timestamp": 1733864579136,
     "user": {
      "displayName": "SAJJAD HOSSAIN JIM",
      "userId": "06773040906540873074"
     },
     "user_tz": -360
    },
    "id": "ZkIzV90JYbI7",
    "outputId": "d629a987-eb8b-42a0-e09a-6d1e974ef582"
   },
   "outputs": [],
   "source": [
    "preddiction"
   ]
  },
  {
   "cell_type": "code",
   "execution_count": null,
   "metadata": {
    "colab": {
     "base_uri": "https://localhost:8080/",
     "height": 356
    },
    "executionInfo": {
     "elapsed": 8690,
     "status": "error",
     "timestamp": 1733994108262,
     "user": {
      "displayName": "SAJJAD HOSSAIN JIM",
      "userId": "06773040906540873074"
     },
     "user_tz": -360
    },
    "id": "Av2LkdZkYe7k",
    "outputId": "262934b0-75ee-4793-f5c9-625a5aea0bc6"
   },
   "outputs": [],
   "source": [
    "# prompt: create a submission dataset\n",
    "\n",
    "import pandas as pd\n",
    "import numpy as np\n",
    "from sklearn.model_selection import train_test_split\n",
    "from sklearn.preprocessing import LabelEncoder, StandardScaler\n",
    "from sklearn.impute import SimpleImputer\n",
    "from sklearn.ensemble import RandomForestClassifier\n",
    "from sklearn.metrics import accuracy_score\n",
    "\n",
    "# Load the training dataset\n",
    "train_data = pd.read_csv('/content/drive/MyDrive/obesity-level-prediction-fall-2024/train.csv')\n",
    "\n",
    "# Load the test dataset\n",
    "test_data = pd.read_csv('/content/drive/MyDrive/obesity-level-prediction-fall-2024/test.csv')\n",
    "\n",
    "# Preprocessing for training data\n",
    "numerical_cols = train_data.select_dtypes(include=np.number).columns\n",
    "imputer = SimpleImputer(strategy='mean')\n",
    "train_data[numerical_cols] = imputer.fit_transform(train_data[numerical_cols])\n",
    "\n",
    "categorical_cols = train_data.select_dtypes(include=['object']).columns\n",
    "label_encoders = {}\n",
    "for col in categorical_cols:\n",
    "    le = LabelEncoder()\n",
    "    train_data[col] = le.fit_transform(train_data[col])\n",
    "    label_encoders[col] = le\n",
    "\n",
    "scaler = StandardScaler()\n",
    "X_train = train_data.drop('NObeyesdad', axis=1)\n",
    "scaler.fit(X_train)\n",
    "train_data_scaled = pd.DataFrame(scaler.transform(X_train), columns=X_train.columns)\n",
    "y_train = train_data['NObeyesdad']\n",
    "\n",
    "if pd.api.types.is_numeric_dtype(y_train):\n",
    "    y_train = (y_train > 0).astype(int)\n",
    "\n",
    "# Preprocessing for test data\n",
    "test_data[numerical_cols] = imputer.transform(test_data[numerical_cols])\n",
    "\n",
    "categorical_cols_test = [col for col in categorical_cols if col in test_data.columns]\n",
    "for col in categorical_cols_test:\n",
    "    test_data[col] = test_data[col].map(lambda s: '<unknown>' if s not in label_encoders[col].classes_ else s)\n",
    "    label_encoders[col].classes_ = np.append(label_encoders[col].classes_, '<unknown>')\n",
    "    test_data[col] = label_encoders[col].transform(test_data[col])\n",
    "\n",
    "test_data_scaled = pd.DataFrame(scaler.transform(test_data), columns=test_data.columns)\n",
    "X_test = test_data_scaled\n",
    "\n",
    "# Train the model\n",
    "rf = RandomForestClassifier()\n",
    "rf.fit(train_data_scaled, y_train)\n",
    "\n",
    "# Make predictions\n",
    "rf_preds = rf.predict(X_test)\n",
    "\n",
    "# Create a DataFrame for the predictions\n",
    "predictions_df = pd.DataFrame({'ID': test_data.index, 'NObeyesdad': rf_preds})\n",
    "\n",
    "# Save the predictions to a CSV file\n",
    "predictions_df.to_csv('Submittion_dataset.csv', index=False)"
   ]
  },
  {
   "cell_type": "code",
   "execution_count": null,
   "metadata": {
    "id": "Xw6UlmpCGp03"
   },
   "outputs": [],
   "source": [
    "from google.colab import drive\n",
    "drive.mount('/content/drive')"
   ]
  }
 ],
 "metadata": {
  "colab": {
   "provenance": [
    {
     "file_id": "1WuHb4mIMSLdu_SSuO3Y8KdYAy370c7Rx",
     "timestamp": 1733859673781
    }
   ]
  },
  "kernelspec": {
   "display_name": "Python 3",
   "name": "python3"
  },
  "language_info": {
   "name": "python"
  }
 },
 "nbformat": 4,
 "nbformat_minor": 0
}
